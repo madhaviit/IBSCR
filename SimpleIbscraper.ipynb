{
  "cells": [
    {
      "attachments": {},
      "cell_type": "markdown",
      "metadata": {},
      "source": [
        "# Library Installation"
      ]
    },
    {
      "cell_type": "code",
      "execution_count": null,
      "metadata": {
        "id": "7EMeJz-QodE1"
      },
      "outputs": [],
      "source": [
        "!pip install requests\n",
        "!pip install beautifulsoup4"
      ]
    },
    {
      "cell_type": "code",
      "execution_count": null,
      "metadata": {
        "id": "gBHx_zEMpJFS"
      },
      "outputs": [],
      "source": [
        "import requests\n",
        "from bs4 import BeautifulSoup"
      ]
    },
    {
      "attachments": {},
      "cell_type": "markdown",
      "metadata": {},
      "source": [
        "# Fetch Data"
      ]
    },
    {
      "cell_type": "code",
      "execution_count": null,
      "metadata": {
        "id": "m7SPojpg8k6b"
      },
      "outputs": [],
      "source": [
        "cookies = {}#paste your own details generated using curl converter\n",
        "\n",
        "headers = {}#paste your own details generated using curl converter\n",
        "\n",
        "final=[]\n",
        "for i in range(2,4000):\n",
        "  params = {\n",
        "    'page': i,\n",
        "  }\n",
        "  response = requests.get('https://www.interviewbit.com/leaderboard/', params=params, cookies=cookies, headers=headers)\n",
        "  tt = BeautifulSoup(response.content,\"html.parser\")\n",
        "  lvla =tt.find(class_=\"panel panel-default\")\n",
        "  alld = lvla.find_all(\"td\")\n",
        "  tempf=[]\n",
        "  for a in alld:\n",
        "    tempf.append(a.text.strip())\n",
        "  t1 = []\n",
        "  cnt=0;\n",
        "  for a in tempf:\n",
        "    t1.append(a)\n",
        "    cnt=cnt+1\n",
        "    if(cnt==5):\n",
        "      final.append(t1)\n",
        "      cnt=0\n",
        "      t1=[]"
      ]
    },
    {
      "attachments": {},
      "cell_type": "markdown",
      "metadata": {},
      "source": [
        "Export Results"
      ]
    },
    {
      "cell_type": "code",
      "execution_count": null,
      "metadata": {
        "id": "ePy8PzC9-E9L"
      },
      "outputs": [],
      "source": [
        "import csv\n",
        "\n",
        "with open(\"IBLeaderboard.csv\", \"w\", newline=\"\") as f:\n",
        "    writer = csv.writer(f)\n",
        "    writer.writerows(final)"
      ]
    },
    {
      "cell_type": "code",
      "execution_count": null,
      "metadata": {
        "colab": {
          "base_uri": "https://localhost:8080/",
          "height": 17
        },
        "id": "uW5nN4bkBUZ5",
        "outputId": "2bd6ebe5-8f05-4dd7-ba4c-322272d8ef26"
      },
      "outputs": [
        {
          "data": {
            "application/javascript": "\n    async function download(id, filename, size) {\n      if (!google.colab.kernel.accessAllowed) {\n        return;\n      }\n      const div = document.createElement('div');\n      const label = document.createElement('label');\n      label.textContent = `Downloading \"${filename}\": `;\n      div.appendChild(label);\n      const progress = document.createElement('progress');\n      progress.max = size;\n      div.appendChild(progress);\n      document.body.appendChild(div);\n\n      const buffers = [];\n      let downloaded = 0;\n\n      const channel = await google.colab.kernel.comms.open(id);\n      // Send a message to notify the kernel that we're ready.\n      channel.send({})\n\n      for await (const message of channel.messages) {\n        // Send a message to notify the kernel that we're ready.\n        channel.send({})\n        if (message.buffers) {\n          for (const buffer of message.buffers) {\n            buffers.push(buffer);\n            downloaded += buffer.byteLength;\n            progress.value = downloaded;\n          }\n        }\n      }\n      const blob = new Blob(buffers, {type: 'application/binary'});\n      const a = document.createElement('a');\n      a.href = window.URL.createObjectURL(blob);\n      a.download = filename;\n      div.appendChild(a);\n      a.click();\n      div.remove();\n    }\n  ",
            "text/plain": [
              "<IPython.core.display.Javascript object>"
            ]
          },
          "metadata": {},
          "output_type": "display_data"
        },
        {
          "data": {
            "application/javascript": "download(\"download_f78c5171-2498-4ddf-8ff8-e0c80dc33cda\", \"IBLeaderboard.csv\", 1575096)",
            "text/plain": [
              "<IPython.core.display.Javascript object>"
            ]
          },
          "metadata": {},
          "output_type": "display_data"
        }
      ],
      "source": [
        "from google.colab import files\n",
        "files.download('IBLeaderboard.csv')"
      ]
    }
  ],
  "metadata": {
    "colab": {
      "provenance": []
    },
    "kernelspec": {
      "display_name": "Python 3",
      "name": "python3"
    },
    "language_info": {
      "name": "python"
    }
  },
  "nbformat": 4,
  "nbformat_minor": 0
}
